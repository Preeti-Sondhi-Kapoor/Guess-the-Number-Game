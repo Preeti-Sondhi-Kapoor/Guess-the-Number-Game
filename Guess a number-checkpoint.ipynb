{
 "cells": [
  {
   "cell_type": "markdown",
   "metadata": {},
   "source": [
    "Guess the Number Game"
   ]
  },
  {
   "cell_type": "code",
   "execution_count": null,
   "metadata": {},
   "outputs": [],
   "source": [
    "import numpy as np\n",
    "import random\n",
    "#name of the user\n",
    "print(\"what is your name?\")\n",
    "name=input()\n",
    "print(\"well\"+ name + \"I was thinking of a number between 1 to 20\")\n",
    "#secret number\n",
    "secret_num=np.random.randint(1,20)\n",
    "\n",
    "#a user can guess 5 times\n",
    "for i in range(1,7):    #as num is in between 1 and 20 can't be zero\n",
    "    print(\"take a guess\")\n",
    "    guess=int(input())\n",
    "    if guess<secret_num:\n",
    "        print(\"Your guess is too Low\")\n",
    "    elif guess >secret_num:\n",
    "        print(\"Your guess is too High\")\n",
    "    else:\n",
    "            break\n",
    "if guess == secret_num:\n",
    "    print(\"Your guess is correct\")\n",
    "else:\n",
    "    print(\"No. The number I was thinking was\"+ str(secret_num))"
   ]
  },
  {
   "cell_type": "code",
   "execution_count": null,
   "metadata": {},
   "outputs": [],
   "source": []
  }
 ],
 "metadata": {
  "kernelspec": {
   "display_name": "Python 3",
   "language": "python",
   "name": "python3"
  },
  "language_info": {
   "codemirror_mode": {
    "name": "ipython",
    "version": 3
   },
   "file_extension": ".py",
   "mimetype": "text/x-python",
   "name": "python",
   "nbconvert_exporter": "python",
   "pygments_lexer": "ipython3",
   "version": "3.7.4"
  }
 },
 "nbformat": 4,
 "nbformat_minor": 2
}
